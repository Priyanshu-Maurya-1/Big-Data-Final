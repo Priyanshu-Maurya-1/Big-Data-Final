{
 "cells": [
  {
   "cell_type": "code",
   "execution_count": 2,
   "id": "d9630c53",
   "metadata": {},
   "outputs": [
    {
     "name": "stdout",
     "output_type": "stream",
     "text": [
      "Dataset URL: https://www.kaggle.com/datasets/akkithetechie/new-york-city-bike-share-dataset\n",
      "License(s): CC-BY-NC-SA-4.0\n",
      "Downloading new-york-city-bike-share-dataset.zip to C:\\Users\\princ\\Desktop\\Big_Data_Final\n",
      "\n"
     ]
    },
    {
     "name": "stderr",
     "output_type": "stream",
     "text": [
      "\n",
      "  0%|          | 0.00/16.6M [00:00<?, ?B/s]\n",
      " 12%|█▏        | 2.00M/16.6M [00:00<00:01, 14.6MB/s]\n",
      " 30%|███       | 5.00M/16.6M [00:00<00:00, 21.5MB/s]\n",
      " 48%|████▊     | 8.00M/16.6M [00:00<00:00, 24.0MB/s]\n",
      " 66%|██████▌   | 11.0M/16.6M [00:00<00:00, 25.2MB/s]\n",
      " 84%|████████▍ | 14.0M/16.6M [00:00<00:00, 26.0MB/s]\n",
      "100%|██████████| 16.6M/16.6M [00:00<00:00, 25.3MB/s]\n"
     ]
    }
   ],
   "source": [
    "!kaggle datasets download -d akkithetechie/new-york-city-bike-share-dataset\n"
   ]
  },
  {
   "cell_type": "code",
   "execution_count": 3,
   "id": "f1cd3a30",
   "metadata": {},
   "outputs": [
    {
     "name": "stdout",
     "output_type": "stream",
     "text": [
      "Dataset extracted to ./nyc_bike_data\n"
     ]
    }
   ],
   "source": [
    "import zipfile\n",
    "import os\n",
    "\n",
    "dataset_zip = 'new-york-city-bike-share-dataset.zip'\n",
    "output_dir = './nyc_bike_data'\n",
    "\n",
    "with zipfile.ZipFile(dataset_zip, 'r') as zip_ref:\n",
    "    zip_ref.extractall(output_dir)\n",
    "\n",
    "print(f\"Dataset extracted to {output_dir}\")\n"
   ]
  },
  {
   "cell_type": "code",
   "execution_count": 4,
   "id": "18ce262e",
   "metadata": {},
   "outputs": [],
   "source": [
    "from flask import Flask, request, jsonify\n",
    "import pandas as pd\n",
    "from flask_restful import Resource, Api\n"
   ]
  },
  {
   "cell_type": "code",
   "execution_count": 9,
   "id": "cfbc3e72",
   "metadata": {},
   "outputs": [],
   "source": [
    "from config import client, db, collection\n"
   ]
  },
  {
   "cell_type": "code",
   "execution_count": 5,
   "id": "dcf5a47a",
   "metadata": {},
   "outputs": [],
   "source": [
    "data.fillna(\"\", inplace=True)  \n",
    "data_json = data.to_dict(orient='records')\n"
   ]
  },
  {
   "cell_type": "code",
   "execution_count": null,
   "id": "e43e0272",
   "metadata": {},
   "outputs": [
    {
     "name": "stdout",
     "output_type": "stream",
     "text": [
      " * Serving Flask app \"__main__\" (lazy loading)\n",
      " * Environment: production\n",
      "\u001b[31m   WARNING: This is a development server. Do not use it in a production deployment.\u001b[0m\n",
      "\u001b[2m   Use a production WSGI server instead.\u001b[0m\n",
      " * Debug mode: on\n"
     ]
    },
    {
     "name": "stderr",
     "output_type": "stream",
     "text": [
      " * Running on http://127.0.0.1:5000/ (Press CTRL+C to quit)\n",
      "127.0.0.1 - - [19/Dec/2024 11:04:08] \"GET /trips/filter?start_station=Christ+Hospital&user_type=Subscriber HTTP/1.1\" 200 -\n",
      "127.0.0.1 - - [19/Dec/2024 11:41:07] \"GET /trips/filter?start_station=Christ+Hospital&user_type=Subscriber HTTP/1.1\" 200 -\n",
      "127.0.0.1 - - [19/Dec/2024 11:41:19] \"GET /trips/filter?user_type=Subscriber HTTP/1.1\" 200 -\n",
      "127.0.0.1 - - [19/Dec/2024 11:54:18] \"GET /trips/filter?start_station=Christ+Hospital&user_type=Subscriber HTTP/1.1\" 200 -\n",
      "127.0.0.1 - - [19/Dec/2024 11:54:40] \"GET /trips/filter?user_type=Subscriber HTTP/1.1\" 200 -\n",
      "127.0.0.1 - - [19/Dec/2024 12:03:16] \"GET /trips/filter?start_station=Christ+Hospital&user_type=Subscriber HTTP/1.1\" 200 -\n",
      "127.0.0.1 - - [19/Dec/2024 12:05:32] \"GET /trips/filter?start_station=Christ+Hospital&user_type=Subscriber HTTP/1.1\" 200 -\n",
      "127.0.0.1 - - [19/Dec/2024 12:05:51] \"GET /trips/filter?user_type=Subscriber HTTP/1.1\" 200 -\n",
      "127.0.0.1 - - [19/Dec/2024 12:08:12] \"GET /trips/filter?start_station=Christ+Hospital&user_type=Subscriber HTTP/1.1\" 200 -\n",
      "127.0.0.1 - - [19/Dec/2024 12:17:11] \"GET /trips/filter?start_station=Christ+Hospital&user_type=Subscriber HTTP/1.1\" 200 -\n",
      "127.0.0.1 - - [19/Dec/2024 12:20:37] \"GET /trips/filter?start_station=Christ+Hospital&user_type=Subscriber HTTP/1.1\" 200 -\n",
      "127.0.0.1 - - [19/Dec/2024 12:20:55] \"GET /trips/filter?user_type=Subscriber HTTP/1.1\" 200 -\n",
      "127.0.0.1 - - [19/Dec/2024 12:32:23] \"GET /trips/filter?start_station=Christ+Hospital&user_type=Subscriber HTTP/1.1\" 200 -\n",
      "127.0.0.1 - - [19/Dec/2024 12:45:09] \"GET /trips/filter?start_station=Christ+Hospital&user_type=Subscriber HTTP/1.1\" 200 -\n"
     ]
    }
   ],
   "source": [
    "app = Flask(__name__)\n",
    "\n",
    "@app.route('/trips', methods=['GET'])\n",
    "def get_trips():\n",
    "    \"\"\"Retrieve all trips with optional pagination.\"\"\"\n",
    "    start = int(request.args.get('start', 0))  \n",
    "    end = int(request.args.get('end', 10))  \n",
    "    return jsonify(data_json[start:end])\n",
    "\n",
    "@app.route('/trips/filter', methods=['GET'])\n",
    "def filter_trips():\n",
    "    \"\"\"Filter trips based on start station, end station, or user type.\"\"\"\n",
    "    start_station = request.args.get('start_station', '').lower()\n",
    "    end_station = request.args.get('end_station', '').lower()\n",
    "    user_type = request.args.get('user_type', '').lower()\n",
    "\n",
    "    filtered_data = [\n",
    "        trip for trip in data_json\n",
    "        if (start_station in trip['Start Station Name'].lower() if start_station else True) and\n",
    "           (end_station in trip['End Station Name'].lower() if end_station else True) and\n",
    "           (user_type in trip['User Type'].lower() if user_type else True)\n",
    "    ]\n",
    "    return jsonify(filtered_data[:100]) \n",
    "\n",
    "@app.route('/trips/<int:trip_id>', methods=['GET'])\n",
    "def get_trip_by_id(trip_id):\n",
    "    \"\"\"Retrieve a specific trip by its index (row ID).\"\"\"\n",
    "    if 0 <= trip_id < len(data_json):\n",
    "        return jsonify(data_json[trip_id])\n",
    "    return jsonify({\"error\": \"Trip not found\"}), 404\n",
    "\n",
    "if __name__ == '__main__':\n",
    "    app.run(debug=True, use_reloader=False)\n"
   ]
  },
  {
   "cell_type": "markdown",
   "id": "1a1432b6",
   "metadata": {},
   "source": [
    "curl \"http://127.0.0.1:5000/trips/filter?start_station=Christ+Hospital&user_type=Subscriber\"\n",
    "curl \"http://127.0.0.1:5000/trips/filter?user_type=Subscriber\"\n",
    "http \"http://127.0.0.1:5000/trips/filter?start_station=Christ+Hospital\"\n"
   ]
  },
  {
   "cell_type": "markdown",
   "id": "19201563",
   "metadata": {},
   "source": [
    "curl http://127.0.0.1:5000/trips\n",
    "curl \"http://127.0.0.1:5000/trips?start=50&end=100\"\n",
    "curl http://127.0.0.1:5000/trips/100\n",
    "curl \"http://127.0.0.1:5000/trips/filter?start_station=Christ+Hospital\"\n",
    "curl http://127.0.0.1:5000/trips/38403840"
   ]
  }
 ],
 "metadata": {
  "kernelspec": {
   "display_name": "Python 3 (ipykernel)",
   "language": "python",
   "name": "python3"
  },
  "language_info": {
   "codemirror_mode": {
    "name": "ipython",
    "version": 3
   },
   "file_extension": ".py",
   "mimetype": "text/x-python",
   "name": "python",
   "nbconvert_exporter": "python",
   "pygments_lexer": "ipython3",
   "version": "3.9.13"
  }
 },
 "nbformat": 4,
 "nbformat_minor": 5
}
